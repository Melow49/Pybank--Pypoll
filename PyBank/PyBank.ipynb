{
 "cells": [
  {
   "cell_type": "code",
   "execution_count": 44,
   "metadata": {},
   "outputs": [
    {
     "name": "stdout",
     "output_type": "stream",
     "text": [
      "Total months: 86\n",
      "Total: $38382578\n",
      "Average Change: $7803\n",
      "Greatest Increase in Revenue: Feb-2017 $532869\n",
      "Greatest Decrease in Revenue: Sep-2013 $-2196167\n"
     ]
    }
   ],
   "source": [
    "import os\n",
    "import csv\n",
    "\n",
    "# Lists \n",
    "months = 0\n",
    "total= 0\n",
    "previous_rev = 0\n",
    "highest_increase = 0\n",
    "lowest_decrease =0\n",
    "avg_change = []\n",
    "\n",
    "\n",
    "csvpath = os.path.join('.', 'budget_data.csv')\n",
    "with open(csvpath, newline='') as csvfile:\n",
    "    csvreader = csv.reader(csvfile, delimiter=',')\n",
    "    csv_header = next(csvfile)\n",
    "    \n",
    "    for row in csvreader:\n",
    "        months = months + 1\n",
    "        total = total + (int(row[1]))\n",
    "        monthly_rev_change = int(row[1]) - previous_rev\n",
    "        previous_rev = int(row[1])\n",
    "        \n",
    "        #add changes in new list\n",
    "        avg_change.append(monthly_rev_change)\n",
    "        total_avg_change = round(sum(avg_change)/months)\n",
    "         \n",
    "            #find the greatest increase in revenue\n",
    "        if (monthly_rev_change > highest_increase):\n",
    "            highest_inc_Month = row[0]\n",
    "            highest_inc_Rev = monthly_rev_change \n",
    "        #find the greatest decrease in revenue\n",
    "        if (monthly_rev_change < lowest_decrease):\n",
    "            lowest_dec_Month = row[0]\n",
    "            lowest_decrease = monthly_rev_change\n",
    "        \n",
    "print(f'Total months: {months}')  \n",
    "print(f'Total: ${total}')  \n",
    "print(f\"Average Change: ${total_avg_change}\")\n",
    "print(f\"Greatest Increase in Revenue: {highest_inc_Month} ${highest_inc_Rev}\") \n",
    "print(f\"Greatest Decrease in Revenue: {lowest_dec_Month} ${lowest_decrease}\") \n",
    "\n",
    "\n",
    "#   Total Months: 86\n",
    "#   Total: $38382578\n",
    "#   Average  Change: $-2315.12\n",
    "#   Greatest Increase in Profits: Feb-2012 ($1926159)\n",
    "#   Greatest Decrease in Profits: Sep-2013 ($-2196167)\n",
    "\n",
    "\n",
    "    \n"
   ]
  },
  {
   "cell_type": "code",
   "execution_count": null,
   "metadata": {},
   "outputs": [],
   "source": []
  }
 ],
 "metadata": {
  "kernelspec": {
   "display_name": "Python 3",
   "language": "python",
   "name": "python3"
  },
  "language_info": {
   "codemirror_mode": {
    "name": "ipython",
    "version": 3
   },
   "file_extension": ".py",
   "mimetype": "text/x-python",
   "name": "python",
   "nbconvert_exporter": "python",
   "pygments_lexer": "ipython3",
   "version": "3.7.0"
  }
 },
 "nbformat": 4,
 "nbformat_minor": 2
}
