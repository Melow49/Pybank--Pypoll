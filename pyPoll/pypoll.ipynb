{
 "cells": [
  {
   "cell_type": "code",
   "execution_count": 52,
   "metadata": {},
   "outputs": [
    {
     "name": "stdout",
     "output_type": "stream",
     "text": [
      "Election Results\n",
      "--------------------------\n",
      "Total Votes: 3521001\n",
      "Khan: 63.00001050837531% (2218231)\n",
      "Correy: 19.999994319797125% (704200)\n",
      "Li: 13.999996023857989% (492940)\n",
      "O'Tooley: 2.999999147969569% (105630)\n",
      "---------------------------\n",
      "Winner: Khan\n",
      "---------------------------\n"
     ]
    }
   ],
   "source": [
    "import os \n",
    "import csv\n",
    "\n",
    "csv_path = os.path.join(\".\", \"election_data.csv\")\n",
    "\n",
    "counting_votes = []\n",
    "candidates = []\n",
    "total_votes= 0\n",
    "\n",
    "\n",
    "\n",
    "\n",
    "\n",
    "with open(csv_path, newline='') as csvfile:\n",
    "\n",
    "    # CSV reader specifies delimiter and variable that holds contents\n",
    "    csvreader = csv.reader(csvfile, delimiter=',')\n",
    "    csv_header = next(csvfile)\n",
    "    \n",
    "    for row in csvreader:\n",
    "        \n",
    "        #add to total number of votes\n",
    "        total_votes = total_votes + 1\n",
    "\n",
    "        #candidate voted for\n",
    "        candidate = row[2]\n",
    "\n",
    "        #if candidate has other votes then add to vote tally\n",
    "        if candidate in candidates:\n",
    "            candidate_index = candidates.index(candidate)\n",
    "            counting_votes[candidate_index] = counting_votes[candidate_index] + 1\n",
    "        \n",
    "        #else create new spot in list for candidate\n",
    "        else:\n",
    "            candidates.append(candidate)\n",
    "            counting_votes.append(1)\n",
    "\n",
    "\n",
    "# find percentage of vote for each candidate and the winner\n",
    "percentage = []\n",
    "max_votes = counting_votes[0]\n",
    "max_index = 0\n",
    "\n",
    "\n",
    "# find percentage of vote for each candidate and the winner\n",
    "for count in range(len(candidates)):\n",
    "    vote_percentage = counting_votes[count]/total_votes*100\n",
    "    percentage.append(vote_percentage)\n",
    "if counting_votes[count] > max_votes:\n",
    "    max_votes = counting_votes[count]\n",
    "    print(max_votes)\n",
    "    max_index = count\n",
    "winner = candidates[max_index]\n",
    "\n",
    "#print results\n",
    "print(\"Election Results\")\n",
    "print(\"--------------------------\")\n",
    "print(f\"Total Votes: {total_votes}\")\n",
    "for count in range (len(candidates)):\n",
    "    print(f\"{candidates[count]}: {percentage[count]}% ({counting_votes[count]})\")\n",
    "print(\"---------------------------\")\n",
    "print(f\"Winner: {winner}\")\n",
    "print(\"---------------------------\")\n",
    "\n",
    "\n",
    "\n",
    "    \n",
    "    "
   ]
  },
  {
   "cell_type": "code",
   "execution_count": null,
   "metadata": {},
   "outputs": [],
   "source": []
  }
 ],
 "metadata": {
  "kernelspec": {
   "display_name": "Python 3",
   "language": "python",
   "name": "python3"
  },
  "language_info": {
   "codemirror_mode": {
    "name": "ipython",
    "version": 3
   },
   "file_extension": ".py",
   "mimetype": "text/x-python",
   "name": "python",
   "nbconvert_exporter": "python",
   "pygments_lexer": "ipython3",
   "version": "3.7.0"
  }
 },
 "nbformat": 4,
 "nbformat_minor": 2
}
